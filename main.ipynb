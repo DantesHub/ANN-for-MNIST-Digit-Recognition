{
 "cells": [
  {
   "cell_type": "code",
   "execution_count": 11,
   "metadata": {},
   "outputs": [],
   "source": [
    "import tensorflow as tf\n",
    "import mnist \n",
    "import matplotlib.pyplot as plt\n",
    "from keras.models import Sequential #ANN \n",
    "from keras.layers import Dense #layers of ANN\n",
    "from keras.utils import to_categorical"
   ]
  },
  {
   "cell_type": "code",
   "execution_count": 118,
   "metadata": {},
   "outputs": [],
   "source": [
    "#Load in trainging and testing dataset\n",
    "train_images = mnist.train_images() \n",
    "train_labels = mnist.train_labels() \n",
    "test_images = mnist.test_images() \n",
    "test_labels = mnist.test_labels()"
   ]
  },
  {
   "cell_type": "code",
   "execution_count": 47,
   "metadata": {},
   "outputs": [
    {
     "data": {
      "image/png": "[encoded data removed]",
      "text/plain": [
       "<Figure size 432x288 with 1 Axes>"
      ]
     },
     "metadata": {
      "needs_background": "light"
     },
     "output_type": "display_data"
    },
    {
     "name": "stdout",
     "output_type": "stream",
     "text": [
      "[[  0   0   0   0   0   0   0   0   0   0   0   0   0   0   0   0   0   0\n",
      "    0   0   0   0   0   0   0   0   0   0]\n",
      " [  0   0   0   0   0   0   0   0   0   0   0   0   0   0   0   0   0   0\n",
      "    0   0   0   0   0   0   0   0   0   0]\n",
      " [  0   0   0   0   0   0   0   0   0   0   0   0   0   0   0   0   0   0\n",
      "    0   0   0   0   0   0   0   0   0   0]\n",
      " [  0   0   0   0   0   0   0   0   0   0   0   0   0   0   0   0   0   0\n",
      "    0   0   0   0   0   0   0   0   0   0]\n",
      " [  0   0   0   0   0   0   0   0   0   0   0   0   0   0   0   0   0   0\n",
      "    0   0   0   0   0   0   0   0   0   0]\n",
      " [  0   0   0   0   0   0   0   0   0   0   0   0   3  18  18  18 126 136\n",
      "  175  26 166 255 247 127   0   0   0   0]\n",
      " [  0   0   0   0   0   0   0   0  30  36  94 154 170 253 253 253 253 253\n",
      "  225 172 253 242 195  64   0   0   0   0]\n",
      " [  0   0   0   0   0   0   0  49 238 253 253 253 253 253 253 253 253 251\n",
      "   93  82  82  56  39   0   0   0   0   0]\n",
      " [  0   0   0   0   0   0   0  18 219 253 253 253 253 253 198 182 247 241\n",
      "    0   0   0   0   0   0   0   0   0   0]\n",
      " [  0   0   0   0   0   0   0   0  80 156 107 253 253 205  11   0  43 154\n",
      "    0   0   0   0   0   0   0   0   0   0]\n",
      " [  0   0   0   0   0   0   0   0   0  14   1 154 253  90   0   0   0   0\n",
      "    0   0   0   0   0   0   0   0   0   0]\n",
      " [  0   0   0   0   0   0   0   0   0   0   0 139 253 190   2   0   0   0\n",
      "    0   0   0   0   0   0   0   0   0   0]\n",
      " [  0   0   0   0   0   0   0   0   0   0   0  11 190 253  70   0   0   0\n",
      "    0   0   0   0   0   0   0   0   0   0]\n",
      " [  0   0   0   0   0   0   0   0   0   0   0   0  35 241 225 160 108   1\n",
      "    0   0   0   0   0   0   0   0   0   0]\n",
      " [  0   0   0   0   0   0   0   0   0   0   0   0   0  81 240 253 253 119\n",
      "   25   0   0   0   0   0   0   0   0   0]\n",
      " [  0   0   0   0   0   0   0   0   0   0   0   0   0   0  45 186 253 253\n",
      "  150  27   0   0   0   0   0   0   0   0]\n",
      " [  0   0   0   0   0   0   0   0   0   0   0   0   0   0   0  16  93 252\n",
      "  253 187   0   0   0   0   0   0   0   0]\n",
      " [  0   0   0   0   0   0   0   0   0   0   0   0   0   0   0   0   0 249\n",
      "  253 249  64   0   0   0   0   0   0   0]\n",
      " [  0   0   0   0   0   0   0   0   0   0   0   0   0   0  46 130 183 253\n",
      "  253 207   2   0   0   0   0   0   0   0]\n",
      " [  0   0   0   0   0   0   0   0   0   0   0   0  39 148 229 253 253 253\n",
      "  250 182   0   0   0   0   0   0   0   0]\n",
      " [  0   0   0   0   0   0   0   0   0   0  24 114 221 253 253 253 253 201\n",
      "   78   0   0   0   0   0   0   0   0   0]\n",
      " [  0   0   0   0   0   0   0   0  23  66 213 253 253 253 253 198  81   2\n",
      "    0   0   0   0   0   0   0   0   0   0]\n",
      " [  0   0   0   0   0   0  18 171 219 253 253 253 253 195  80   9   0   0\n",
      "    0   0   0   0   0   0   0   0   0   0]\n",
      " [  0   0   0   0  55 172 226 253 253 253 253 244 133  11   0   0   0   0\n",
      "    0   0   0   0   0   0   0   0   0   0]\n",
      " [  0   0   0   0 136 253 253 253 212 135 132  16   0   0   0   0   0   0\n",
      "    0   0   0   0   0   0   0   0   0   0]\n",
      " [  0   0   0   0   0   0   0   0   0   0   0   0   0   0   0   0   0   0\n",
      "    0   0   0   0   0   0   0   0   0   0]\n",
      " [  0   0   0   0   0   0   0   0   0   0   0   0   0   0   0   0   0   0\n",
      "    0   0   0   0   0   0   0   0   0   0]\n",
      " [  0   0   0   0   0   0   0   0   0   0   0   0   0   0   0   0   0   0\n",
      "    0   0   0   0   0   0   0   0   0   0]]\n"
     ]
    }
   ],
   "source": [
    "plt.imshow(train_images[0], cmap = plt.cm.binary)\n",
    "plt.show()\n",
    "print(train_images[0])"
   ]
  },
  {
   "cell_type": "code",
   "execution_count": 117,
   "metadata": {},
   "outputs": [],
   "source": [
    "#preporcess data. \n",
    "#Flatten images\n",
    "train_images = train_images.reshape((-1,784)) #60k x 784\n",
    "test_images = test_images.reshape((-1,784)) #10k x 784"
   ]
  },
  {
   "cell_type": "code",
   "execution_count": 96,
   "metadata": {},
   "outputs": [],
   "source": [
    "#Build model: 3 layers, 2 layers with 16 neurons and relu function \n",
    "#1 layer with 10 neurons and softmax function. \n",
    "model = Sequential()\n",
    "model.add(Dense(16,activation=tf.nn.relu))\n",
    "model.add(Dense(16,activation=tf.nn.relu))\n",
    "model.add(Dense(10,activation = tf.nn.softmax))"
   ]
  },
  {
   "cell_type": "code",
   "execution_count": 97,
   "metadata": {},
   "outputs": [],
   "source": [
    "#Compile the model: optimizer and loss function\n",
    "model.compile(\n",
    "    optimizer = 'adam',\n",
    "    loss='categorical_crossentropy', #(classes that are greater than 2)\n",
    "    metrics = ['accuracy']\n",
    ")"
   ]
  },
  {
   "cell_type": "code",
   "execution_count": 98,
   "metadata": {},
   "outputs": [
    {
     "name": "stdout",
     "output_type": "stream",
     "text": [
      "Epoch 1/5\n",
      "60000/60000 [==============================] - 2s 32us/step - loss: 2.6172 - accuracy: 0.3418\n",
      "Epoch 2/5\n",
      "60000/60000 [==============================] - 2s 28us/step - loss: 1.2009 - accuracy: 0.5586\n",
      "Epoch 3/5\n",
      "60000/60000 [==============================] - 2s 27us/step - loss: 0.8573 - accuracy: 0.6838\n",
      "Epoch 4/5\n",
      "60000/60000 [==============================] - 2s 27us/step - loss: 0.6994 - accuracy: 0.7542\n",
      "Epoch 5/5\n",
      "60000/60000 [==============================] - 2s 27us/step - loss: 0.5232 - accuracy: 0.8557\n"
     ]
    },
    {
     "data": {
      "text/plain": [
       "<keras.callbacks.callbacks.History at 0x63f3d3110>"
      ]
     },
     "execution_count": 98,
     "metadata": {},
     "output_type": "execute_result"
    }
   ],
   "source": [
    "#Finally train the model\n",
    "model.fit(\n",
    "    train_images,\n",
    "    to_categorical(train_labels), #returns 2 and it expects [0,0,2,0,0,0,0,0,0]\n",
    "    epochs = 5,\n",
    "    batch_size=32, \n",
    ")"
   ]
  },
  {
   "cell_type": "code",
   "execution_count": 75,
   "metadata": {},
   "outputs": [
    {
     "name": "stdout",
     "output_type": "stream",
     "text": [
      "10000/10000 [==============================] - 0s 14us/step\n"
     ]
    },
    {
     "data": {
      "text/plain": [
       "[0.21656125102341175, 0.9350000023841858]"
      ]
     },
     "execution_count": 75,
     "metadata": {},
     "output_type": "execute_result"
    }
   ],
   "source": [
    "#Seems like there is something wrong with my model\n",
    "#accuary gets stuck at .1124\n",
    "model.evaluate(\n",
    "    test_images,\n",
    "    to_categorical(test_labels)\n",
    ")"
   ]
  },
  {
   "cell_type": "code",
   "execution_count": 77,
   "metadata": {},
   "outputs": [],
   "source": [
    "#Try beating a 94% accuary\n",
    "#Try Normalizing data the pixel values from 0,255 to -0.5,0.5\n",
    "train_images = tf.keras.utils.normalize(train_images, axis = 1)\n",
    "test_images = tf.keras.utils.normalize(test_images, axis = 1)"
   ]
  },
  {
   "cell_type": "code",
   "execution_count": 79,
   "metadata": {},
   "outputs": [
    {
     "name": "stdout",
     "output_type": "stream",
     "text": [
      "Epoch 1/5\n",
      "60000/60000 [==============================] - 2s 33us/step - loss: 0.6594 - accuracy: 0.8109\n",
      "Epoch 2/5\n",
      "60000/60000 [==============================] - 2s 29us/step - loss: 0.3140 - accuracy: 0.9091 0s - loss: 0.3148 - accuracy: 0.90\n",
      "Epoch 3/5\n",
      "60000/60000 [==============================] - 2s 29us/step - loss: 0.2709 - accuracy: 0.9216 1s - l - ETA: 0s - loss: 0.2751 - ac\n",
      "Epoch 4/5\n",
      "60000/60000 [==============================] - 2s 29us/step - loss: 0.2444 - accuracy: 0.9288\n",
      "Epoch 5/5\n",
      "60000/60000 [==============================] - 2s 29us/step - loss: 0.2253 - accuracy: 0.9339\n"
     ]
    },
    {
     "data": {
      "text/plain": [
       "<keras.callbacks.callbacks.History at 0x63886ec10>"
      ]
     },
     "execution_count": 79,
     "metadata": {},
     "output_type": "execute_result"
    }
   ],
   "source": [
    "model = Sequential()\n",
    "model.add(Dense(16,activation=tf.nn.relu))\n",
    "model.add(Dense(16,activation=tf.nn.relu))\n",
    "model.add(Dense(10,activation = tf.nn.softmax))\n",
    "\n",
    "model.compile(\n",
    "    optimizer = 'adam',\n",
    "    loss='categorical_crossentropy', #(classes that are greater than 2)\n",
    "    metrics = ['accuracy']\n",
    ")\n",
    "model.fit(\n",
    "    train_images,\n",
    "    to_categorical(train_labels), #returns 2 and it expects [0,0,2,0,0,0,0,0,0]\n",
    "    epochs = 5,\n",
    "    batch_size=32, \n",
    ")"
   ]
  },
  {
   "cell_type": "code",
   "execution_count": 81,
   "metadata": {},
   "outputs": [
    {
     "name": "stdout",
     "output_type": "stream",
     "text": [
      "Epoch 1/5\n",
      "60000/60000 [==============================] - 2s 36us/step - loss: 0.4958 - accuracy: 0.8653\n",
      "Epoch 2/5\n",
      "60000/60000 [==============================] - 2s 34us/step - loss: 0.2410 - accuracy: 0.9291\n",
      "Epoch 3/5\n",
      "60000/60000 [==============================] - 2s 32us/step - loss: 0.1965 - accuracy: 0.9416\n",
      "Epoch 4/5\n",
      "60000/60000 [==============================] - 2s 34us/step - loss: 0.1688 - accuracy: 0.9505 0s - loss: 0 - ETA: 0s - loss: 0.1706 - ac\n",
      "Epoch 5/5\n",
      "60000/60000 [==============================] - 2s 32us/step - loss: 0.1478 - accuracy: 0.9560\n"
     ]
    },
    {
     "data": {
      "text/plain": [
       "<keras.callbacks.callbacks.History at 0x63906d190>"
      ]
     },
     "execution_count": 81,
     "metadata": {},
     "output_type": "execute_result"
    }
   ],
   "source": [
    "#seemd liked normazling data did not have much of an effect\n",
    "#This time I will double the number of neurons in each layer\n",
    "model = Sequential()\n",
    "model.add(Dense(32,activation=tf.nn.relu))\n",
    "model.add(Dense(32,activation=tf.nn.relu))\n",
    "model.add(Dense(10,activation = tf.nn.softmax))\n",
    "\n",
    "model.compile(\n",
    "    optimizer = 'adam',\n",
    "    loss='categorical_crossentropy', #(classes that are greater than 2)\n",
    "    metrics = ['accuracy']\n",
    ")\n",
    "model.fit(\n",
    "    train_images,\n",
    "    to_categorical(train_labels), #returns 2 and it expects [0,0,2,0,0,0,0,0,0]\n",
    "    epochs = 5,\n",
    "    batch_size=32, \n",
    ")"
   ]
  },
  {
   "cell_type": "code",
   "execution_count": 102,
   "metadata": {},
   "outputs": [
    {
     "name": "stdout",
     "output_type": "stream",
     "text": [
      "Epoch 1/10\n",
      "60000/60000 [==============================] - 2s 38us/step - loss: 1.3692 - accuracy: 0.8287\n",
      "Epoch 2/10\n",
      "60000/60000 [==============================] - 2s 39us/step - loss: 0.3626 - accuracy: 0.9093\n",
      "Epoch 3/10\n",
      "60000/60000 [==============================] - 3s 43us/step - loss: 0.2846 - accuracy: 0.9283\n",
      "Epoch 4/10\n",
      "60000/60000 [==============================] - 3s 47us/step - loss: 0.2493 - accuracy: 0.9350\n",
      "Epoch 5/10\n",
      "60000/60000 [==============================] - 3s 47us/step - loss: 0.2035 - accuracy: 0.9464\n",
      "Epoch 6/10\n",
      "60000/60000 [==============================] - 2s 40us/step - loss: 0.1797 - accuracy: 0.9521\n",
      "Epoch 7/10\n",
      "60000/60000 [==============================] - 2s 41us/step - loss: 0.1590 - accuracy: 0.9568\n",
      "Epoch 8/10\n",
      "60000/60000 [==============================] - 2s 41us/step - loss: 0.1481 - accuracy: 0.9590\n",
      "Epoch 9/10\n",
      "60000/60000 [==============================] - 2s 41us/step - loss: 0.1351 - accuracy: 0.9622\n",
      "Epoch 10/10\n",
      "60000/60000 [==============================] - 3s 46us/step - loss: 0.1308 - accuracy: 0.9644 0s - loss: 0.1300 - accuracy: \n"
     ]
    },
    {
     "data": {
      "text/plain": [
       "<keras.callbacks.callbacks.History at 0x676f2b090>"
      ]
     },
     "execution_count": 102,
     "metadata": {},
     "output_type": "execute_result"
    }
   ],
   "source": [
    "#Seemed like it had it helped, will double again and also double epochs\n",
    "#seemd liked normazling data did not have much of an effect\n",
    "#This time I will double the number of neurons in each layer\n",
    "model = Sequential()\n",
    "model.add(Dense(64,activation=tf.nn.relu))\n",
    "model.add(Dense(64,activation=tf.nn.relu))\n",
    "model.add(Dense(10,activation = tf.nn.softmax))\n",
    "\n",
    "model.compile(\n",
    "    optimizer = 'adam',\n",
    "    loss='categorical_crossentropy', #(classes that are greater than 2)\n",
    "    metrics = ['accuracy']\n",
    ")\n",
    "model.fit(\n",
    "    train_images,\n",
    "    to_categorical(train_labels), #returns 2 and it expects [0,0,2,0,0,0,0,0,0]\n",
    "    epochs = 10,\n",
    "    batch_size=32, \n",
    ")"
   ]
  },
  {
   "cell_type": "code",
   "execution_count": 104,
   "metadata": {},
   "outputs": [
    {
     "name": "stdout",
     "output_type": "stream",
     "text": [
      "10000/10000 [==============================] - 0s 20us/step\n",
      "0.20033070752583443 0.9520000219345093\n"
     ]
    }
   ],
   "source": [
    "val_loss, val_acc = model.evaluate(test_images,to_categorical(test_labels))\n",
    "print(val_loss,val_acc)\n",
    "#about 95% accuaracy "
   ]
  },
  {
   "cell_type": "code",
   "execution_count": 109,
   "metadata": {},
   "outputs": [],
   "source": [
    "predictions = model.predict([test_images])"
   ]
  },
  {
   "cell_type": "code",
   "execution_count": 110,
   "metadata": {},
   "outputs": [
    {
     "name": "stdout",
     "output_type": "stream",
     "text": [
      "[[2.7772734e-10 5.5997746e-12 3.0557471e-06 ... 9.9999607e-01\n",
      "  4.1424922e-10 2.7106530e-09]\n",
      " [1.9245189e-11 2.8405493e-05 9.9992311e-01 ... 1.2576513e-05\n",
      "  2.2375092e-07 3.0234200e-09]\n",
      " [2.3005035e-07 9.9999976e-01 2.5119993e-12 ... 1.0373284e-13\n",
      "  8.9263006e-09 5.3253138e-19]\n",
      " ...\n",
      " [8.2069615e-11 3.9343749e-06 1.6493968e-07 ... 6.1063724e-06\n",
      "  5.3904475e-10 1.0516188e-05]\n",
      " [2.5076050e-35 5.8059613e-36 5.6519088e-25 ... 7.8183006e-26\n",
      "  5.1438751e-21 2.4395810e-38]\n",
      " [1.7999922e-18 3.1700401e-29 4.1442146e-18 ... 2.5786097e-30\n",
      "  2.2977960e-24 0.0000000e+00]]\n"
     ]
    }
   ],
   "source": [
    "print(predictions)"
   ]
  },
  {
   "cell_type": "code",
   "execution_count": 111,
   "metadata": {},
   "outputs": [
    {
     "name": "stdout",
     "output_type": "stream",
     "text": [
      "7\n"
     ]
    }
   ],
   "source": [
    "print(np.argmax(predictions[0]))"
   ]
  },
  {
   "cell_type": "code",
   "execution_count": 119,
   "metadata": {},
   "outputs": [
    {
     "data": {
      "image/png": "[encoded data removed]",
      "text/plain": [
       "<Figure size 432x288 with 1 Axes>"
      ]
     },
     "metadata": {
      "needs_background": "light"
     },
     "output_type": "display_data"
    }
   ],
   "source": [
    "a = np.expand_dims(test_images[0], axis=1)\n",
    "plt.imshow(test_images[0])\n",
    "plt.show()"
   ]
  },
  {
   "cell_type": "code",
   "execution_count": null,
   "metadata": {},
   "outputs": [],
   "source": []
  }
 ],
 "metadata": {
  "kernelspec": {
   "display_name": "Python 3",
   "language": "python",
   "name": "python3"
  },
  "language_info": {
   "codemirror_mode": {
    "name": "ipython",
    "version": 3
   },
   "file_extension": ".py",
   "mimetype": "text/x-python",
   "name": "python",
   "nbconvert_exporter": "python",
   "pygments_lexer": "ipython3",
   "version": "3.7.4"
  }
 },
 "nbformat": 4,
 "nbformat_minor": 2
}
